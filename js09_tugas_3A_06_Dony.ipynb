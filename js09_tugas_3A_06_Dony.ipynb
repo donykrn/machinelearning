{
 "cells": [
  {
   "cell_type": "code",
   "execution_count": null,
   "metadata": {},
   "outputs": [],
   "source": []
  }
 ],
 "metadata": {
  "kernelspec": {
   "display_name": "Python 3.9.12 ('base')",
   "language": "python",
   "name": "python3"
  },
  "language_info": {
   "name": "python",
   "version": "3.9.12"
  },
  "orig_nbformat": 4,
  "vscode": {
   "interpreter": {
    "hash": "b5b06d3827fd767a160018d98a568bb794e62b1c4190352ad85bfee558275cd1"
   }
  }
 },
 "nbformat": 4,
 "nbformat_minor": 2
}
